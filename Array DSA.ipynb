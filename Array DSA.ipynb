{
 "cells": [
  {
   "cell_type": "code",
   "execution_count": 26,
   "id": "eff83662",
   "metadata": {},
   "outputs": [
    {
     "name": "stdout",
     "output_type": "stream",
     "text": [
      "[17, 5, 2]\n"
     ]
    }
   ],
   "source": [
    "# Find the leaders in array of right side.\n",
    "def leaders(arr):\n",
    "    new = []\n",
    "    prev = 0\n",
    "    maxi = 0\n",
    "    for i in reversed(range(len(arr))):\n",
    "        maxi = max(maxi,arr[i])\n",
    "        if prev != maxi:\n",
    "            new.append(maxi)\n",
    "\n",
    "        prev = maxi\n",
    "\n",
    "    return new[::-1]\n",
    "\n",
    "arr = [16,17,4,3,5,2]\n",
    "print(leaders(arr))\n",
    "\n"
   ]
  },
  {
   "cell_type": "code",
   "execution_count": 27,
   "id": "d1e84da5",
   "metadata": {},
   "outputs": [
    {
     "data": {
      "text/plain": [
       "[0, 0, 1, 2, 2]"
      ]
     },
     "execution_count": 27,
     "metadata": {},
     "output_type": "execute_result"
    }
   ],
   "source": [
    "# Sort an array of 0s, 1s and 2s.\n",
    "def sorting(arr):\n",
    "    n = len(arr)\n",
    "    low = 0\n",
    "    high = len(arr)-1\n",
    "    mid = 0\n",
    "    while mid <= high:\n",
    "        if arr[mid] == 0:\n",
    "            arr[low],arr[mid] = arr[mid],arr[low]\n",
    "            low += 1\n",
    "            mid += 1\n",
    "            \n",
    "        elif arr[mid] == 1:\n",
    "            mid += 1\n",
    "            \n",
    "        else:\n",
    "            arr[mid],arr[high] = arr[high],arr[mid]\n",
    "            high -= 1\n",
    "            \n",
    "    return arr\n",
    "\n",
    "arr = [0,2,1,2,0]\n",
    "sorting(arr)\n"
   ]
  },
  {
   "cell_type": "code",
   "execution_count": 28,
   "id": "13f1caef",
   "metadata": {},
   "outputs": [],
   "source": [
    "# count more than n/k occurences\n",
    "def counting(nums,k):\n",
    "    unique = {}\n",
    "    count = 0\n",
    "    for i in range(len(nums)):\n",
    "        if nums[i] not in unique:\n",
    "            unique[nums[i]] = 1\n",
    "            \n",
    "        else:\n",
    "            unique[nums[i]] += 1\n",
    "            \n",
    "    for key,value in unique.items():\n",
    "        if value > (len(nums)//k):\n",
    "            count += 1\n",
    "            \n",
    "    return count\n",
    "\n",
    "    "
   ]
  },
  {
   "cell_type": "code",
   "execution_count": 29,
   "id": "cb3b95dc",
   "metadata": {},
   "outputs": [
    {
     "data": {
      "text/plain": [
       "9"
      ]
     },
     "execution_count": 29,
     "metadata": {},
     "output_type": "execute_result"
    }
   ],
   "source": [
    "# Kadane's Algorithm\n",
    "def KadaneAlgorithm(arr):\n",
    "    n = len(arr)\n",
    "    sums = 0\n",
    "    total = 0\n",
    "    for i in range(n):\n",
    "        total += arr[i]\n",
    "        sums = max(sums,total)\n",
    "    return sums\n",
    "arr = [1,2,3,-2,5]\n",
    "KadaneAlgorithm(arr)\n",
    " "
   ]
  },
  {
   "cell_type": "code",
   "execution_count": 30,
   "id": "7181487f",
   "metadata": {},
   "outputs": [
    {
     "name": "stdout",
     "output_type": "stream",
     "text": [
      "1\n"
     ]
    }
   ],
   "source": [
    "# smallest positive missing Number\n",
    "def partition(arr):\n",
    "    low = 0\n",
    "    for i in range(len(arr)):\n",
    "        if arr[i] > 0:\n",
    "            arr[low],arr[i] = arr[i],arr[low]\n",
    "            low +=1\n",
    "            \n",
    "    return low\n",
    "\n",
    "def findMisssingNumber(arr):\n",
    "    k = partition(arr)\n",
    "    for i in range(k):\n",
    "        val = abs(arr[i])\n",
    "        if val-1 <k and arr[val-1] >0:\n",
    "            arr[val-1] = -arr[val-1]\n",
    "            \n",
    "    for i in range(k):\n",
    "        if arr[i] >0:\n",
    "            return i+1\n",
    "        \n",
    "    return k+1\n",
    "\n",
    "arr = [10,12,13,14,-2,-3,-4]\n",
    "print(findMisssingNumber(arr))\n",
    "\n",
    "    \n",
    "    \n",
    "            "
   ]
  },
  {
   "cell_type": "code",
   "execution_count": 31,
   "id": "5b2d9fb5",
   "metadata": {},
   "outputs": [
    {
     "name": "stdout",
     "output_type": "stream",
     "text": [
      "Length of the longest common  span with same sum is 6\n"
     ]
    }
   ],
   "source": [
    "# longest span with same sum in two binary array\n",
    "def TwoSum(arr1,arr2,n):\n",
    "    sum1 = sum2 = 0\n",
    "    diff = {}\n",
    "    max_len = 0\n",
    "    for i in range(n):\n",
    "        sum1 += arr1[i]\n",
    "        sum2 += arr2[i]\n",
    "        pre_diff = sum2-sum1\n",
    "        if pre_diff == 0:\n",
    "            max_len = i+1\n",
    "            \n",
    "        elif pre_diff not in diff:\n",
    "            diff[pre_diff] = i\n",
    "            \n",
    "        else:\n",
    "            len = i - diff[pre_diff]\n",
    "            if len > max_len:\n",
    "                max_len = len\n",
    "                \n",
    "    return max_len\n",
    "\n",
    "arr1 = [0, 1, 0, 1, 1, 1, 1]\n",
    "arr2 = [1, 1, 1, 1, 1, 0, 1]\n",
    "print(\"Length of the longest common\",\n",
    "    \" span with same\", end = \" \")\n",
    "print(\"sum is\",TwoSum(arr1,\n",
    "                   arr2, len(arr1)))"
   ]
  },
  {
   "cell_type": "code",
   "execution_count": 32,
   "id": "17f49bb2",
   "metadata": {},
   "outputs": [
    {
     "name": "stdout",
     "output_type": "stream",
     "text": [
      "This is union\n",
      "dict_keys([1, 2, 3, 4, 5, 6, 7])\n",
      "\n",
      "This is intersection\n",
      "2 3 5 "
     ]
    }
   ],
   "source": [
    "# Union and Intersection of two sorted arrays\n",
    "def sets(arr1, arr2):\n",
    "    n = len(arr1)\n",
    "    m = len(arr2)\n",
    "    i = j = 0\n",
    "    dictionary = {}\n",
    "    while i < n and j < m:\n",
    "        if arr1[i] < arr2[j]:\n",
    "            if arr1[i] not in dictionary:\n",
    "                dictionary[arr1[i]] = 1\n",
    "                i += 1\n",
    "            else:\n",
    "                dictionary[arr1[i]] += 1\n",
    "                i += 1\n",
    "\n",
    "\n",
    "        elif arr1[i] > arr2[j]:\n",
    "            if arr2[j] not in dictionary:\n",
    "                dictionary[arr2[j]] = 1\n",
    "                j += 1\n",
    "\n",
    "            else:\n",
    "                dictionary[arr2[j]] += 1\n",
    "                j += 1\n",
    "\n",
    "        while i<n:\n",
    "            if arr1[i] not in dictionary:\n",
    "                dictionary[arr1[i]] = 1\n",
    "                i += 1\n",
    "            else:\n",
    "                dictionary[arr1[i]] += 1\n",
    "                i += 1\n",
    "\n",
    "        while j <m:\n",
    "            if arr2[j] not in dictionary:\n",
    "                dictionary[arr2[j]] = 1\n",
    "                j += 1\n",
    "\n",
    "            else:\n",
    "                dictionary[arr2[j]] += 1\n",
    "                j += 1\n",
    "\n",
    "    return dictionary\n",
    "\n",
    "\n",
    "def union_intersection(arr1, arr2):\n",
    "    d = sets(arr1, arr2)\n",
    "    print('This is union')\n",
    "    print(d.keys())\n",
    "    print()\n",
    "\n",
    "    print('This is intersection')\n",
    "    for key, value in d.items():\n",
    "        if value > 1:\n",
    "            print(key, end=' ')\n",
    "\n",
    "\n",
    "\n",
    "arr1 = [1, 2, 3, 4, 5, 6]\n",
    "arr2 = [2, 3, 5, 7]\n",
    "union_intersection(arr1, arr2)\n"
   ]
  },
  {
   "cell_type": "code",
   "execution_count": 33,
   "id": "e807a35f",
   "metadata": {},
   "outputs": [
    {
     "name": "stdout",
     "output_type": "stream",
     "text": [
      "1\n"
     ]
    }
   ],
   "source": [
    "# Find the minimum distance between two numbers \n",
    "import sys\n",
    "def minimum_distances(arr,x,y):\n",
    "    p = -1\n",
    "    min_dist = sys.maxsize\n",
    "    for i in range(len(arr)):\n",
    "        if arr[i] == x or arr[i] == y:\n",
    "            if p != -1 and arr[i] != arr[p]:\n",
    "                min_dist = min(min_dist,i-p)\n",
    "                \n",
    "        p = i\n",
    "        \n",
    "    return min_dist\n",
    "\n",
    "arr = [2, 5, 3, 5, 4, 4, 2, 3]\n",
    "x = 3\n",
    "y = 2\n",
    "print(minimum_distances(arr,x,y))"
   ]
  },
  {
   "cell_type": "code",
   "execution_count": 34,
   "id": "80d3d696",
   "metadata": {},
   "outputs": [
    {
     "name": "stdout",
     "output_type": "stream",
     "text": [
      "[17, 5, 2]\n"
     ]
    }
   ],
   "source": [
    "# leaders of the right side of array\n",
    "def leaders(arr):\n",
    "    new = []\n",
    "    prev = 0\n",
    "    maxi = 0\n",
    "    for i in reversed(range(len(arr))):\n",
    "        maxi = max(maxi,arr[i])\n",
    "        if maxi != prev:\n",
    "            new.append(maxi)\n",
    "\n",
    "        prev = maxi\n",
    "\n",
    "\n",
    "\n",
    "    print(new[::-1])\n",
    "\n",
    "arr = [16,17,4,3,5,2]\n",
    "leaders(arr)\n"
   ]
  },
  {
   "cell_type": "code",
   "execution_count": 35,
   "id": "ff672ef9",
   "metadata": {},
   "outputs": [
    {
     "name": "stdout",
     "output_type": "stream",
     "text": [
      "5\n"
     ]
    }
   ],
   "source": [
    "# Find the Number Occurring Odd Number of Times using Bit Manipulation:\n",
    "\n",
    "# BIT WISE (XOR) APPROACH:\n",
    "def occuring_number(arr,n):\n",
    "    res = 0\n",
    "    for element in arr:\n",
    "        res = res ^ element\n",
    "    return res\n",
    "\n",
    "arr = [ 2, 3, 5, 4, 5, 2, 4, 3, 5, 2, 4, 4, 2]\n",
    "print(occuring_number(arr,len(arr)))\n",
    "\n",
    "\n",
    "\n"
   ]
  },
  {
   "cell_type": "code",
   "execution_count": 36,
   "id": "78aead4d",
   "metadata": {},
   "outputs": [
    {
     "name": "stdout",
     "output_type": "stream",
     "text": [
      "1\n"
     ]
    }
   ],
   "source": [
    "# TC O(LOGN)\n",
    "# SC O(1)\n",
    "# Find a Peak Element\n",
    "def peak_element(arr,low,high):\n",
    "    while low <= high:\n",
    "        mid = (high+low)//2\n",
    "        if arr[mid-1] <= arr[mid] >= arr[mid+1]:\n",
    "            return mid\n",
    "\n",
    "        elif mid > 0 and arr[mid-1] > arr[mid]:\n",
    "            high = mid-1\n",
    "\n",
    "        elif mid < len(arr)-1 and arr[mid-1] < arr[mid] :\n",
    "            low = mid+1\n",
    "        \n",
    "        else:\n",
    "            if mid == 0 and arr[mid+1] > arr[mid]:\n",
    "                low = mid + 1\n",
    "                \n",
    "            elif  mid == len(arr)-1 and arr[mid-1] > arr[mid]:\n",
    "                high = mid-1\n",
    "                \n",
    "                \n",
    "            elif mid == 0 and arr[mid+1] < arr[mid]:\n",
    "                return mid\n",
    "            \n",
    "            elif mid == len(arr)-1 and arr[mid-1] < arr[mid]:\n",
    "                return mid\n",
    "                \n",
    "\n",
    "\n",
    "arr = [16,17,4,3,5,2]\n",
    "print(peak_element(arr,0,len(arr)-1))\n"
   ]
  },
  {
   "cell_type": "code",
   "execution_count": 37,
   "id": "8a18dbc7",
   "metadata": {},
   "outputs": [
    {
     "data": {
      "text/plain": [
       "2"
      ]
     },
     "execution_count": 37,
     "metadata": {},
     "output_type": "execute_result"
    }
   ],
   "source": [
    "#Count Strictly Increasing Subarrays\n",
    "# time complexity 0(N)\n",
    "#SC O(1)\n",
    "def count_Strictly(arr,n):\n",
    "    cnt = 0\n",
    "    lenn = 1\n",
    "    for i in range(n-1):\n",
    "        if arr[i+1] > arr[i]:\n",
    "            lenn += 1\n",
    "            \n",
    "        else:\n",
    "            cnt += ((lenn-1)*lenn)//2\n",
    "            lenn = 1\n",
    "            \n",
    "    if lenn > 1:\n",
    "        cnt += ((lenn-1)*lenn)//2\n",
    "        \n",
    "    return cnt\n",
    "\n",
    "arr = [1,2,2,4]\n",
    "count_Strictly(arr,len(arr))\n"
   ]
  },
  {
   "cell_type": "code",
   "execution_count": 38,
   "id": "daa87f02",
   "metadata": {},
   "outputs": [
    {
     "name": "stdout",
     "output_type": "stream",
     "text": [
      "False\n"
     ]
    }
   ],
   "source": [
    "#TC O(N^2)\n",
    "# SC 0(1)\n",
    "def triplets(arr,n):\n",
    "    for i in range(n):\n",
    "        arr[i] = (arr[i])**2 #n\n",
    "\n",
    "    arr.sort() #nlogn\n",
    "\n",
    "    for i in range(n-1,2,-1):\n",
    "        l = 0\n",
    "        r = i-1\n",
    "        while r>l:\n",
    "            if (arr[l] + arr[r]) == arr[i]:\n",
    "                return True\n",
    "\n",
    "            else:\n",
    "                if (arr[l] + arr[r]) < arr[i]:\n",
    "                    l += 1\n",
    "\n",
    "                else:\n",
    "                    r -= 1\n",
    "\n",
    "    return False\n",
    "\n",
    "arr = [10,4,6,12,5]\n",
    "print(triplets(arr,len(arr)))\n",
    "\n"
   ]
  },
  {
   "cell_type": "code",
   "execution_count": 39,
   "id": "81bd5999",
   "metadata": {},
   "outputs": [
    {
     "data": {
      "text/plain": [
       "[0, 0, 0, 0, 0, 1, 1, 1, 1, 1]"
      ]
     },
     "execution_count": 39,
     "metadata": {},
     "output_type": "execute_result"
    }
   ],
   "source": [
    "\n",
    "def segregarate(arr,n):\n",
    "    l = 0\n",
    "    r = n-1\n",
    "    while r>l:\n",
    "        while arr[l] == 0 and r>l:\n",
    "            l += 1\n",
    "            \n",
    "        while arr[r] == 1 and r>l:\n",
    "            r -= 1\n",
    "            \n",
    "        if l < r:\n",
    "            arr[l] = 0\n",
    "            arr[r] = 1\n",
    "            l += 1\n",
    "            r -= 1\n",
    "            \n",
    "    return arr\n",
    "\n",
    "arr = [0,1,0,1,0,0,1,1,1,0]\n",
    "segregarate(arr,len(arr))\n",
    "\n",
    "            \n",
    "            "
   ]
  },
  {
   "cell_type": "code",
   "execution_count": 40,
   "id": "0ba6b0fc",
   "metadata": {},
   "outputs": [
    {
     "name": "stdout",
     "output_type": "stream",
     "text": [
      "yes\n"
     ]
    }
   ],
   "source": [
    "# TC 0(N)\n",
    "#SC O(N)\n",
    "# Given an array A[] and a number x, check for pair in A[] with sum as x\n",
    "\n",
    "def hashmap(arr,n,total):\n",
    "    hashing = {}\n",
    "    temp = 0\n",
    "    for i in range(n):\n",
    "        temp = total - arr[i]\n",
    "        if temp in hashing:\n",
    "            print('yes')\n",
    "            return\n",
    "        \n",
    "        hashing[arr[i]] = i\n",
    "    print('No')\n",
    "    \n",
    "arr = [1, 4, 45, 6, 10, 8]\n",
    "sum = 16\n",
    "hashmap(arr,len(arr),sum)\n"
   ]
  },
  {
   "cell_type": "code",
   "execution_count": 41,
   "id": "dc4cfee9",
   "metadata": {},
   "outputs": [
    {
     "name": "stdout",
     "output_type": "stream",
     "text": [
      "yes\n"
     ]
    }
   ],
   "source": [
    "# Given an array A[] and a number x, check for pair in A[] with sum as x\n",
    "#TC O(NLOGN)\n",
    "#SC O(1).\n",
    "\n",
    "def checkTwoSum(arr,n,sums):\n",
    "    arr.sort()\n",
    "    l = 0\n",
    "    r = n-1\n",
    "    while l < r:\n",
    "        temp = arr[l] + arr[r]\n",
    "        if temp == sums:\n",
    "            print('yes')\n",
    "            return\n",
    "            \n",
    "        elif temp < sums:\n",
    "            l += 1\n",
    "            \n",
    "        else:\n",
    "            r-= 1\n",
    "            \n",
    "    print('No')\n",
    "    \n",
    "arr = [1, 4, 45, 6, 10, 8]\n",
    "sum = 16\n",
    "checkTwoSum(arr,len(arr),sum)"
   ]
  },
  {
   "cell_type": "code",
   "execution_count": 42,
   "id": "303c2a07",
   "metadata": {},
   "outputs": [
    {
     "name": "stdout",
     "output_type": "stream",
     "text": [
      "0\n",
      "\n",
      "2-3\n",
      "\n",
      "6-8\n",
      "\n",
      "11-44\n",
      "\n",
      "46-59\n",
      "\n",
      "61-99\n",
      "\n"
     ]
    }
   ],
   "source": [
    "def missing_Element(arr):\n",
    "    boolean_check = [False]*100\n",
    "    for i in range(len(arr)):\n",
    "        if arr[i] < 100:\n",
    "            boolean_check[arr[i]] = True\n",
    "            \n",
    "    i = 0\n",
    "    while i < 100:\n",
    "        if boolean_check[i] == False:\n",
    "            j = i+1\n",
    "            while j < 100 and boolean_check[j] == False:\n",
    "                j += 1\n",
    "                \n",
    "            if i+1 == j:\n",
    "                print(\"%d\\n\"%i)\n",
    "                \n",
    "            else:\n",
    "                print(\"%d-%d\\n\"%(i,j-1))\n",
    "                \n",
    "            i = j\n",
    "            \n",
    "        else:\n",
    "            i += 1\n",
    "            \n",
    "    \n",
    "arr = [10,9,800,5,4,1,45,60]\n",
    "missing_Element(arr)\n",
    "            "
   ]
  },
  {
   "cell_type": "code",
   "execution_count": 43,
   "id": "3e703404",
   "metadata": {},
   "outputs": [
    {
     "name": "stdout",
     "output_type": "stream",
     "text": [
      "floor 19\n"
     ]
    }
   ],
   "source": [
    "# Floor and Ceiling in a sorted array\n",
    "#TC O(N)\n",
    "#SC O(1)\n",
    "# X = 0 CEILING OF X IS THE SMALLEST ELEMENT IN ARRAY BUT GREATER THAN OR EQUAL TO X.\n",
    "# X = 0 FLOOR IS THE GREATEST ELEMENT SMALLER OR EQUAL TO X.\n",
    "import sys\n",
    "def Floor_And_Ceiling(arr,x):\n",
    "    mini = sys.maxsize\n",
    "    maxi = -999999\n",
    "    i = 0\n",
    "    while i < len(arr):\n",
    "        if x == arr[i] or x < arr[i]:\n",
    "            mini = min(mini,arr[i])\n",
    "            \n",
    "        if x == arr[i] or x> arr[i]:\n",
    "            maxi = max(maxi,arr[i])\n",
    "            \n",
    "        i += 1\n",
    "            \n",
    "    if mini != sys.maxsize:\n",
    "        print(\"ceiling\",mini)\n",
    "        \n",
    "    if maxi != -999999:\n",
    "        print(\"floor\",maxi)\n",
    "        \n",
    "    else:\n",
    "        print(None)\n",
    "        return\n",
    "    \n",
    "arr = [1,2,8,10,10,12,19]\n",
    "Floor_And_Ceiling(arr,20)\n",
    "    \n",
    "               "
   ]
  },
  {
   "cell_type": "code",
   "execution_count": 44,
   "id": "753ba761",
   "metadata": {},
   "outputs": [
    {
     "data": {
      "text/plain": [
       "12"
      ]
     },
     "execution_count": 44,
     "metadata": {},
     "output_type": "execute_result"
    }
   ],
   "source": [
    "#Floor and Ceiling in a sorted array\n",
    "#TC O(LOGN)\n",
    "# SC O(1).\n",
    "def ceiling(arr,low,high,x):\n",
    "    while low <= high:\n",
    "        mid = (low+high)//2\n",
    "        if arr[mid] ==x:\n",
    "            return mid\n",
    "        \n",
    "        elif arr[mid] >= x:\n",
    "            high = mid-1\n",
    "            \n",
    "        else:\n",
    "            low = mid +1\n",
    "            \n",
    "    return arr[low]\n",
    "\n",
    "arr = [1, 2, 8, 10, 10, 12, 19]\n",
    "x = 11\n",
    "ceiling(arr,0,len(arr)-1,x)"
   ]
  },
  {
   "cell_type": "code",
   "execution_count": 45,
   "id": "c3569c6f",
   "metadata": {
    "scrolled": true
   },
   "outputs": [
    {
     "data": {
      "text/plain": [
       "10"
      ]
     },
     "execution_count": 45,
     "metadata": {},
     "output_type": "execute_result"
    }
   ],
   "source": [
    "#Floor and Ceiling in a sorted array\n",
    "#TC O(LOGN)\n",
    "# SC O(1).\n",
    "def floor(arr,low,high,x):\n",
    "    while low <= high:\n",
    "        mid = (low+high)//2\n",
    "        if arr[mid] == x:\n",
    "            return arr[mid]\n",
    "        \n",
    "        elif arr[mid] > x:\n",
    "            high = mid - 1\n",
    "            \n",
    "        else:\n",
    "            low = mid +1\n",
    "            \n",
    "    return arr[high]\n",
    "\n",
    "arr = [1, 2, 8, 10, 10, 12, 19]\n",
    "x = 11\n",
    "floor(arr,0,len(arr)-1,x)     "
   ]
  },
  {
   "cell_type": "code",
   "execution_count": 46,
   "id": "9522d349",
   "metadata": {},
   "outputs": [],
   "source": [
    "# IMPLEMENTAION OF TWO STACKS IN AN ARRAY\n",
    "        "
   ]
  },
  {
   "cell_type": "code",
   "execution_count": 47,
   "id": "e4d4ae2c",
   "metadata": {},
   "outputs": [
    {
     "data": {
      "text/plain": [
       "4"
      ]
     },
     "execution_count": 47,
     "metadata": {},
     "output_type": "execute_result"
    }
   ],
   "source": [
    "# Find minimum difference between any two elements\n",
    "#TC O(NLOGN)\n",
    "#SC O(1)\n",
    "import sys\n",
    "def Minimum_distances(arr):\n",
    "    arr.sort()\n",
    "    n = len(arr)\n",
    "    diff = sys.maxsize\n",
    "    for i in range(n-1):\n",
    "        if abs(arr[i+1] - arr[i] ) < diff:\n",
    "            diff = abs(arr[i+1]-arr[i])\n",
    "    return diff\n",
    "\n",
    "arr = [30,5,20,9]\n",
    "Minimum_distances(arr)"
   ]
  },
  {
   "cell_type": "code",
   "execution_count": 48,
   "id": "6dc988c0",
   "metadata": {},
   "outputs": [
    {
     "name": "stdout",
     "output_type": "stream",
     "text": [
      "1 3 6 "
     ]
    }
   ],
   "source": [
    "# Find duplicates in O(n) time and O(1) extra space\n",
    "\n",
    "def duplicates(arr):\n",
    "    for i in range(len(arr)):\n",
    "        if (arr[abs(arr[i])]) >= 0:\n",
    "            arr[abs(arr[i])] = -arr[abs(arr[i])]\n",
    "            \n",
    "        else:\n",
    "            print(\"%d\"%abs(arr[i]),end = ' ')\n",
    "            \n",
    "arr = [1,2,3,1,3,6,6]\n",
    "duplicates(arr)"
   ]
  },
  {
   "cell_type": "code",
   "execution_count": 49,
   "id": "1ba12a2a",
   "metadata": {},
   "outputs": [
    {
     "data": {
      "text/plain": [
       "6"
      ]
     },
     "execution_count": 49,
     "metadata": {},
     "output_type": "execute_result"
    }
   ],
   "source": [
    "# Find lost element from a duplicated array\n",
    "# TC O(LOGN).\n",
    "# SC O(1).\n",
    "def duplicated_array(arr1,arr2):\n",
    "    n = len(arr1)\n",
    "    m = len(arr2)\n",
    "    if n == m-1:\n",
    "        return missingUtil(arr2,arr1,m)\n",
    "        \n",
    "    elif m == n-1:\n",
    "        return missingUtil(arr1,arr2,n)\n",
    "        \n",
    "    else:\n",
    "        print('Invalid input')\n",
    "\n",
    "\n",
    "def missingUtil(arr1,arr2,N):\n",
    "    if N == 1:\n",
    "        return arr1[0]\n",
    "    \n",
    "    if arr1[0] != arr2[0]:\n",
    "        return arr1[0]\n",
    "    \n",
    "    l = 0\n",
    "    h = N-1\n",
    "    while h >= l:\n",
    "        mid = (l+h) //2\n",
    "        if arr1[mid] == arr2[mid]:\n",
    "            l = mid\n",
    "            \n",
    "        else:\n",
    "            h = mid\n",
    "            \n",
    "            \n",
    "        if l == h-1:\n",
    "            break\n",
    "            \n",
    "    return arr1[h]\n",
    "\n",
    "arr1 = [1,2,3,4,5]\n",
    "arr2 = [1,2,3,4,5,6]\n",
    "duplicated_array(arr1,arr2)"
   ]
  },
  {
   "cell_type": "code",
   "execution_count": 50,
   "id": "cf9f1b5f",
   "metadata": {},
   "outputs": [
    {
     "data": {
      "text/plain": [
       "5"
      ]
     },
     "execution_count": 50,
     "metadata": {},
     "output_type": "execute_result"
    }
   ],
   "source": [
    "# Two elements whose sum is closest to zero \n",
    "# TC O(NLOGN)\n",
    "# SC O(1)\n",
    "import sys\n",
    "def minSumPair(arr,n):\n",
    "    sums,min_sum = sys.maxsize,sys.maxsize\n",
    "    l,r = 0,n-1\n",
    "    min_l,min_r = l,r\n",
    "    arr.sort()\n",
    "    while r > l:\n",
    "        sums = arr[l] + arr[r]\n",
    "        if abs(sums) < abs(min_sum):\n",
    "            min_sum = sums\n",
    "            min_l = l\n",
    "            min_r = r\n",
    "            \n",
    "        if sums <0:\n",
    "            l += 1\n",
    "        else:\n",
    "            r -= 1\n",
    "    return min_sum\n",
    "\n",
    "arr = [1,60,-10,70,-80,85]\n",
    "minSumPair(arr,len(arr))"
   ]
  },
  {
   "cell_type": "code",
   "execution_count": 6,
   "id": "9b8f7607",
   "metadata": {},
   "outputs": [
    {
     "data": {
      "text/plain": [
       "4"
      ]
     },
     "execution_count": 6,
     "metadata": {},
     "output_type": "execute_result"
    }
   ],
   "source": [
    "# Maximum Length Bitonic Subarray\n",
    "def bitonic_SubArray(arr):\n",
    "    count = 1\n",
    "    maxi = 0\n",
    "    for i in range(len(arr)-1):\n",
    "        if arr[i] < arr[i+1]:\n",
    "            count += 1\n",
    "            maxi = max(maxi,count)\n",
    "        else:\n",
    "            count = 1\n",
    "            \n",
    "    return maxi\n",
    "\n",
    "arr = [20, 4, 1, 2, 3, 4, 2, 10]\n",
    "bitonic_SubArray(arr)"
   ]
  },
  {
   "cell_type": "code",
   "execution_count": 8,
   "id": "19554900",
   "metadata": {},
   "outputs": [
    {
     "data": {
      "text/plain": [
       "7"
      ]
     },
     "execution_count": 8,
     "metadata": {},
     "output_type": "execute_result"
    }
   ],
   "source": [
    "def getdesiredArray(arr):\n",
    "    n = len(arr)\n",
    "    res = 0\n",
    "    while True:\n",
    "        i = 0\n",
    "        zero_size = 0\n",
    "        while i <n:\n",
    "            if (arr[i] &1) >0:\n",
    "                break\n",
    "                \n",
    "            elif arr[i] == 0:\n",
    "                zero_size +=1\n",
    "            i+= 1\n",
    "            \n",
    "        if zero_size == n:\n",
    "            return res\n",
    "        \n",
    "        if i == n:\n",
    "            for j in range(n):\n",
    "                arr[j] = arr[j]//2\n",
    "            res += 1\n",
    "            \n",
    "        for j in range(i,n):\n",
    "            if (arr[j] & 1):\n",
    "                arr[j] = arr[j]-1\n",
    "                res += 1\n",
    "                \n",
    "arr = [16,16,16]\n",
    "getdesiredArray(arr)\n",
    "                "
   ]
  },
  {
   "cell_type": "code",
   "execution_count": 9,
   "id": "15885594",
   "metadata": {},
   "outputs": [
    {
     "data": {
      "text/plain": [
       "3"
      ]
     },
     "execution_count": 9,
     "metadata": {},
     "output_type": "execute_result"
    }
   ],
   "source": [
    "# Find minimum number of merge operations to make an array palindrome \n",
    "# TC O(N).\n",
    "def minimum(arr):\n",
    "    ans = 0\n",
    "    i = 0\n",
    "    j = len(arr)-1\n",
    "    while i <= j:\n",
    "        if arr[i] == arr[j]:\n",
    "            i += 1\n",
    "            j -= 1\n",
    "            \n",
    "        elif arr[i] > arr[j]:\n",
    "            j -= 1\n",
    "            arr[j] += arr[j+1]\n",
    "            ans += 1\n",
    "            \n",
    "               \n",
    "        else:\n",
    "            i += 1\n",
    "            arr[i] += arr[i-1]\n",
    "            ans += 1\n",
    "            \n",
    "    return ans\n",
    "\n",
    "arr = [11,14,15,99]\n",
    "minimum(arr)"
   ]
  },
  {
   "cell_type": "code",
   "execution_count": 16,
   "id": "2a9016d1",
   "metadata": {},
   "outputs": [
    {
     "data": {
      "text/plain": [
       "[1, 9, 8, 4, 6, 7, 2, 0, 0, 0, 0]"
      ]
     },
     "execution_count": 16,
     "metadata": {},
     "output_type": "execute_result"
    }
   ],
   "source": [
    "# Move all zeroes to end of array\n",
    "def movezeroes(arr):\n",
    "    n = len(arr)\n",
    "    high = n-1\n",
    "    i = 0\n",
    "    while i < high:\n",
    "        if arr[i] == 0:\n",
    "            arr[i],arr[high] = arr[high],arr[i]\n",
    "            high-=1\n",
    "            \n",
    "        else:\n",
    "            i += 1\n",
    "    return arr\n",
    "            \n",
    "arr = [1,9,8,4,0,0,2,7,0,6,0]\n",
    "movezeroes(arr)\n",
    "            "
   ]
  },
  {
   "cell_type": "code",
   "execution_count": 2,
   "id": "b844c861",
   "metadata": {},
   "outputs": [
    {
     "data": {
      "text/plain": [
       "99"
      ]
     },
     "execution_count": 2,
     "metadata": {},
     "output_type": "execute_result"
    }
   ],
   "source": [
    "# Maximum difference between two elements (larger element appears after smaller)\n",
    "def findMximumdiff(arr):\n",
    "    maxi_diff = arr[1] - arr[0]\n",
    "    small_num = arr[0]\n",
    "    for i in range(len(arr)):\n",
    "        if arr[i] - small_num > maxi_diff:\n",
    "            maxi_diff = arr[i] - small_num\n",
    "            \n",
    "        if arr[i] < small_num:\n",
    "            small_num = arr[i]\n",
    "            \n",
    "    return maxi_diff\n",
    "arr = [1,2,6,80,100]\n",
    "findMximumdiff(arr)"
   ]
  },
  {
   "cell_type": "code",
   "execution_count": 16,
   "id": "78a083db",
   "metadata": {},
   "outputs": [
    {
     "name": "stdout",
     "output_type": "stream",
     "text": [
      "[6, 5, 4, 3, 2, 1]\n",
      "[6, 5, 4, 3, 2, 1]\n"
     ]
    }
   ],
   "source": [
    "# Write a program to reverse an array or string\n",
    "def reversed(arr):\n",
    "    start = 0\n",
    "    end = len(arr)-1\n",
    "    while end > start:\n",
    "        arr[start],arr[end] = arr[end],arr[start]\n",
    "        start +=1 \n",
    "        end -= 1\n",
    "    return arr\n",
    "\n",
    "arr = [1,2,3,4,5,6]\n",
    "print(reversed(arr))\n",
    "\n",
    "def recursion(arr,start,end):\n",
    "    if start >= end:\n",
    "        return arr\n",
    "    \n",
    "    arr[start],arr[end] = arr[end],arr[start]\n",
    "    recursion(arr,start+1,end-1)\n",
    "    \n",
    "arr = [1,2,3,4,5,6]\n",
    "start = 0\n",
    "end = len(arr)-1\n",
    "recursion(arr,start,end)\n",
    "print(arr)\n",
    "\n"
   ]
  },
  {
   "cell_type": "code",
   "execution_count": 4,
   "id": "5320ff98",
   "metadata": {},
   "outputs": [
    {
     "data": {
      "text/plain": [
       "[[1, 9], [2, 4], [4, 8]]"
      ]
     },
     "execution_count": 4,
     "metadata": {},
     "output_type": "execute_result"
    }
   ],
   "source": [
    "# merge overlapping intervals\n",
    "#TC O(NLOGN)\n",
    "#SC O(N).\n",
    "def mergingOverlapping(arr):\n",
    "    arr.sort()\n",
    "    stack = []\n",
    "    stack.append(arr[0])\n",
    "    for i in arr[1:]:\n",
    "        if arr[-1][0] <= i[0] <= stack[-1][-1]:\n",
    "            stack[-1][-1] = max(stack[-1][-1],i[-1])\n",
    "            \n",
    "        else:\n",
    "            stack.append(i)\n",
    "            \n",
    "    return stack\n",
    "            \n",
    "arr = [[6, 8], [1, 9], [2, 4], [4, 7]]\n",
    "mergingOverlapping(arr)\n",
    "# print(arr)  "
   ]
  },
  {
   "cell_type": "code",
   "execution_count": 7,
   "id": "0ae718d8",
   "metadata": {},
   "outputs": [
    {
     "data": {
      "text/plain": [
       "[[1, 9], [2, 4], [4, 7], [6, 8]]"
      ]
     },
     "execution_count": 7,
     "metadata": {},
     "output_type": "execute_result"
    }
   ],
   "source": [
    "# merge overlapping intervals\n",
    "#TC O(NlogN)\n",
    "#SC O(1).\n",
    "def merging(arr):\n",
    "    index = 0\n",
    "    arr.sort(key = lambda x:x[0])\n",
    "    for i in range(len(arr)):\n",
    "        if arr[index][1] >= arr[i][0]:\n",
    "            arr[index][1] = max(arr[index][1],arr[i][1])\n",
    "            \n",
    "        else:\n",
    "            index += 1\n",
    "            arr[index] = arr[i]\n",
    "            \n",
    "    return arr\n",
    "arr = [[6, 8], [1, 9], [2, 4], [4, 7]]\n",
    "merging(arr)"
   ]
  },
  {
   "cell_type": "code",
   "execution_count": 17,
   "id": "c9ac91bc",
   "metadata": {},
   "outputs": [
    {
     "name": "stdout",
     "output_type": "stream",
     "text": [
      "1 2 3 4 8 12 11 10 9 5 6 7 "
     ]
    }
   ],
   "source": [
    "def spiralMatrix(arr):\n",
    "    k=l= 0\n",
    "    m ,n = len(arr),len(arr[0])\n",
    "    while k < m and l <n:\n",
    "        \n",
    "        for i in range(l,n):\n",
    "            print(arr[k][i],end = ' ')\n",
    "        k += 1\n",
    "        \n",
    "        for i in range(k,m):\n",
    "            print(arr[i][n-1],end =' ')\n",
    "            \n",
    "        n -= 1\n",
    "        if k < m:\n",
    "            for i in range((n-1),(l-1),-1):\n",
    "                print(arr[m-1][i],end = ' ')\n",
    "\n",
    "            m -= 1\n",
    "        \n",
    "        if k < n:\n",
    "            for i in range(m-1,k-1,-1):\n",
    "                print(arr[i][l],end = ' ')\n",
    "                \n",
    "            l += 1\n",
    "            \n",
    "a = [[1, 2, 3, 4],\n",
    "[5, 6, 7, 8],\n",
    "[9, 10, 11, 12]]\n",
    "\n",
    "spiralMatrix(a)"
   ]
  },
  {
   "cell_type": "code",
   "execution_count": 19,
   "id": "93c9922b",
   "metadata": {},
   "outputs": [
    {
     "data": {
      "text/plain": [
       "8"
      ]
     },
     "execution_count": 19,
     "metadata": {},
     "output_type": "execute_result"
    }
   ],
   "source": [
    "#TC O(LOGN)\n",
    "#SCO(LOGN)\n",
    "# Search an element in a sorted and rotated array\n",
    "def search(arr,l,h,key):\n",
    "    if l >h:\n",
    "        return -1\n",
    "    \n",
    "    mid = (l+h)//2\n",
    "    if arr[mid] == key:\n",
    "        return mid\n",
    "    \n",
    "    if arr[l] <= arr[mid]:\n",
    "        if arr[l] <= key <= arr[mid]:\n",
    "            return search(arr,l,mid-1,key)\n",
    "        return search(arr,mid+1,h,key)\n",
    "    \n",
    "    elif arr[mid] <= key <= arr[h]:\n",
    "        return search(arr,mid+1,h,key)\n",
    "    return search(arr,l,mid-1,key)\n",
    "\n",
    "\n",
    "arr = [4, 5, 6, 7, 8, 9, 1, 2, 3]\n",
    "search(arr,0,len(arr)-1,3)"
   ]
  },
  {
   "cell_type": "code",
   "execution_count": 22,
   "id": "c770b8da",
   "metadata": {},
   "outputs": [
    {
     "name": "stdout",
     "output_type": "stream",
     "text": [
      "[3, 7, 4, 8, 2, 6, 1]\n"
     ]
    }
   ],
   "source": [
    "# Convert array into Zig-Zag fashion\n",
    "#TC O(N)\n",
    "#SC(1).\n",
    "def Zig_Zag(arr,n):\n",
    "    flag = True\n",
    "    for i in range(n-1):\n",
    "        if flag is True:\n",
    "            if arr[i] > arr[i+1]:\n",
    "                arr[i],arr[i+1] = arr[i+1],arr[i]\n",
    "                \n",
    "        else:\n",
    "            if arr[i] < arr[i+1]:\n",
    "                arr[i],arr[i+1] = arr[i+1],arr[i]\n",
    "                \n",
    "        flag = bool(1-flag)\n",
    "    print(arr)\n",
    "    \n",
    "arr = [4, 3, 7, 8, 6, 2, 1]\n",
    "Zig_Zag(arr,len(arr))\n",
    "                "
   ]
  },
  {
   "cell_type": "code",
   "execution_count": 3,
   "id": "381c48b9",
   "metadata": {},
   "outputs": [
    {
     "name": "stdout",
     "output_type": "stream",
     "text": [
      "['de', 'c', 'ab', '!', '$']\n"
     ]
    }
   ],
   "source": [
    "def reversing(arr):\n",
    "    n = len(arr)\n",
    "    l = 0\n",
    "    h = n-1\n",
    "    c = ['!','$']\n",
    "    while h > l:\n",
    "        if arr[l] not in c and arr[h] not in c:\n",
    "            arr[l],arr[h] = arr[h],arr[l]\n",
    "            l += 1\n",
    "            h -= 1\n",
    "            \n",
    "        if arr[l] in c:\n",
    "            l += 1\n",
    "            \n",
    "        else:\n",
    "            h -= 1\n",
    "    print(arr)\n",
    "    \n",
    "arr = ['ab','c','de','!','$']\n",
    "reversing(arr)"
   ]
  },
  {
   "cell_type": "code",
   "execution_count": 6,
   "id": "f4f881ad",
   "metadata": {},
   "outputs": [
    {
     "data": {
      "text/plain": [
       "2"
      ]
     },
     "execution_count": 6,
     "metadata": {},
     "output_type": "execute_result"
    }
   ],
   "source": [
    "# Count triplets with sum smaller than a given value\n",
    "#TC O(N^2)\n",
    "# SC O(1).\n",
    "def sumTriplets(arr,sums):\n",
    "    n = len(arr)\n",
    "    arr.sort()\n",
    "    leng = 0\n",
    "    for i in range(0,n-2):\n",
    "        j = i+1\n",
    "        k = n-1\n",
    "        while j < k:\n",
    "            if arr[i]+arr[j]+arr[k] >= sums:\n",
    "                k-=1\n",
    "                \n",
    "            else:\n",
    "                leng += (k-j)\n",
    "                j += 1\n",
    "                \n",
    "                \n",
    "    return leng\n",
    "\n",
    "arr = [-2,0,1,3]\n",
    "sumTriplets(arr,2)\n",
    "\n",
    "                "
   ]
  },
  {
   "cell_type": "code",
   "execution_count": 9,
   "id": "ce51acd4",
   "metadata": {},
   "outputs": [
    {
     "data": {
      "text/plain": [
       "5"
      ]
     },
     "execution_count": 9,
     "metadata": {},
     "output_type": "execute_result"
    }
   ],
   "source": [
    "# Length of the largest subarray with contiguous elements\n",
    "#TC O(N^2)\n",
    "# SC O(1).\n",
    "def maximumSubArray(arr,n):\n",
    "    max_len = 1\n",
    "    for i in range(n-1):\n",
    "        mn = arr[i]\n",
    "        mx = arr[i]\n",
    "        for j in range(i+1,n):\n",
    "            mn = min(mn,arr[j])\n",
    "            mx = max(mx,arr[j])\n",
    "            if mx-mn == j-i:\n",
    "                max_len = max(max_len,mx-mn+1)\n",
    "                \n",
    "    return max_len\n",
    "\n",
    "arr = [1, 56, 58, 57, 90, 92, 94, 93, 91, 45]\n",
    "maximumSubArray(arr,len(arr))\n"
   ]
  },
  {
   "cell_type": "code",
   "execution_count": 3,
   "id": "7dec6e0f",
   "metadata": {},
   "outputs": [
    {
     "name": "stdout",
     "output_type": "stream",
     "text": [
      "buy100 and sell is 320\n",
      "buy40 and sell is 512\n"
     ]
    }
   ],
   "source": [
    "def buySellStock(arr):\n",
    "    n = len(arr)\n",
    "    i = 0\n",
    "    mn = 9999999999999999\n",
    "    mx = 0\n",
    "    while i < n-1:\n",
    "        mn = arr[i]\n",
    "        mx = arr[i]\n",
    "        while i <n-1:\n",
    "            mn = min(mn,arr[i])\n",
    "            if arr[i] < arr[i+1]:\n",
    "                mx = max(mx,arr[i+1])\n",
    "                i += 1\n",
    "            else:\n",
    "                i += 1\n",
    "                print(f\"buy{mn} and sell is {mx}\")\n",
    "                break\n",
    "                \n",
    "    \n",
    "    if i > 0:\n",
    "        print(f\"buy{mn} and sell is {mx}\")\n",
    "        return\n",
    "            \n",
    "arr = [100,250,320,40,256,512]\n",
    "buySellStock(arr)\n",
    "            "
   ]
  },
  {
   "cell_type": "code",
   "execution_count": 5,
   "id": "3b0d2e6d",
   "metadata": {},
   "outputs": [
    {
     "name": "stdout",
     "output_type": "stream",
     "text": [
      "20 "
     ]
    }
   ],
   "source": [
    "# Find common elements in three sorted arrays\n",
    "# TC O(N).\n",
    "# SC O(1).\n",
    "def finding_commen(arr1,arr2,arr3):\n",
    "    n1 = len(arr1)\n",
    "    n2 = len(arr2)\n",
    "    n3 = len(arr3)\n",
    "    i,j,k = 0,0,0\n",
    "    while i < n1 and j < n2 and k < n3:\n",
    "        if arr1[i] == arr2[j] and arr2[j] == arr3[k]:\n",
    "            print(arr1[i],end = ' ')\n",
    "            i += 1\n",
    "            j += 1\n",
    "            k += 1\n",
    "            \n",
    "        elif arr1[i] < arr2[j]:\n",
    "            i += 1\n",
    "            \n",
    "        elif arr2[j] < arr3[k]:\n",
    "            j += 1\n",
    "            \n",
    "        else:\n",
    "            k += 1\n",
    "            \n",
    "arr1 = [10,11,12,20,70,90]\n",
    "arr2 = [15,18,19,20,30]\n",
    "arr3 = [3,2,4,6,20]\n",
    "finding_commen(arr1,arr2,arr3)\n"
   ]
  },
  {
   "cell_type": "code",
   "execution_count": 1,
   "id": "c5fb778e",
   "metadata": {},
   "outputs": [],
   "source": [
    "# Maximum sum such that no two elements are adjacent"
   ]
  },
  {
   "cell_type": "code",
   "execution_count": 3,
   "id": "ce708946",
   "metadata": {},
   "outputs": [
    {
     "name": "stdout",
     "output_type": "stream",
     "text": [
      "4 7\n"
     ]
    }
   ],
   "source": [
    "# Find a pair with maximum product in array of Integers\n",
    "def maximum_pair(arr):\n",
    "    n = len(arr)\n",
    "    l = 0\n",
    "    h = n-1\n",
    "    if n == 2:\n",
    "        print(n[0],n[1])\n",
    "        \n",
    "    if n <2:\n",
    "        return -1\n",
    "    \n",
    "    second_larger = 0\n",
    "    first_larger = 0\n",
    "    mid = (l+h)//2\n",
    "    while l<h:\n",
    "        first_larger = max(first_larger,arr[l])\n",
    "        second_larger = max(second_larger,arr[h])\n",
    "        l += 1\n",
    "        h -= 1\n",
    "      \n",
    "    print(first_larger,second_larger)\n",
    "    return\n",
    "\n",
    "arr = [1,3,4,7,6,0]\n",
    "maximum_pair(arr)\n",
    "            "
   ]
  },
  {
   "cell_type": "code",
   "execution_count": 11,
   "id": "8f4d9349",
   "metadata": {},
   "outputs": [
    {
     "data": {
      "text/plain": [
       "'None'"
      ]
     },
     "execution_count": 11,
     "metadata": {},
     "output_type": "execute_result"
    }
   ],
   "source": [
    "# Find a pair with the given difference\n",
    "# Tc o(NLOGN)\n",
    "#SC (1).\n",
    "def givenDifference(arr,key):\n",
    "    n = len(arr)\n",
    "    arr.sort()\n",
    "    i = 0\n",
    "    l = n-1\n",
    "    while i <l:\n",
    "        if arr[l] - arr[i] == key:\n",
    "            print(arr[l],arr[i])\n",
    "            return\n",
    "        \n",
    "        elif key - arr[i] < arr[l]:\n",
    "            i += 1\n",
    "            \n",
    "        else:\n",
    "            l -= 1\n",
    "    return 'None'        \n",
    "\n",
    "                \n",
    "arr = [90, 70, 20, 80, 50]\n",
    "n = 45\n",
    "givenDifference(arr,n)\n",
    "    "
   ]
  },
  {
   "cell_type": "code",
   "execution_count": 12,
   "id": "7405ba51",
   "metadata": {},
   "outputs": [],
   "source": [
    "# Sort elements by frequency\n"
   ]
  },
  {
   "cell_type": "code",
   "execution_count": 13,
   "id": "a92bf013",
   "metadata": {},
   "outputs": [
    {
     "data": {
      "text/plain": [
       "5"
      ]
     },
     "execution_count": 13,
     "metadata": {},
     "output_type": "execute_result"
    }
   ],
   "source": [
    "# Find the odd appearing element in O(Log n) time\n",
    "def getOddOccurence(arr):\n",
    "    res = 0\n",
    "    for i in arr:\n",
    "        res = res ^ i\n",
    "        \n",
    "    return res\n",
    "arr = [ 2, 3, 5, 4, 5, 2, 4, 3, 5, 2, 4, 4, 2]\n",
    "getOddOccurence(arr)"
   ]
  },
  {
   "cell_type": "code",
   "execution_count": 1,
   "id": "8a16269c",
   "metadata": {},
   "outputs": [],
   "source": [
    "# Find the odd appearing element in O(Log n) time\n",
    "def search(arr,low,high):\n",
    "    if low > high:\n",
    "        return None\n",
    "    \n",
    "    if low == high:\n",
    "        return arr[low]\n",
    "    \n",
    "    if mid %2 == 0:\n",
    "        if arr[mid] == arr[mid+1]:\n",
    "            return search(arr,mid+2,high)\n",
    "        \n",
    "        else:\n",
    "            return search(arr,low,mid)\n",
    "        \n",
    "    else:\n",
    "        \n",
    "        if arr[mid] == arr[mid-1]:\n",
    "            return search(arr,mid+1,high)\n",
    "        \n",
    "        return search(arr,low,mid-1)\n",
    "\n"
   ]
  },
  {
   "cell_type": "code",
   "execution_count": 10,
   "id": "1463f665",
   "metadata": {},
   "outputs": [
    {
     "data": {
      "text/plain": [
       "2"
      ]
     },
     "execution_count": 10,
     "metadata": {},
     "output_type": "execute_result"
    }
   ],
   "source": [
    "# Count number of occurrences (or frequency) in a sorted array\n",
    "# TC O(LOGN)\n",
    "# SC O(1).\n",
    "\n",
    "def firstoccur(arr,low,high,x,n):\n",
    "    if high >= low:\n",
    "        mid = (low+high)//2\n",
    "        \n",
    "        if mid == 0 or x > arr[mid-1] and arr[mid] == x:\n",
    "            return mid\n",
    "        \n",
    "        elif x > arr[mid]:\n",
    "            return firstoccur(arr,mid+1,high,x,n)\n",
    "        \n",
    "        else:\n",
    "            return firstoccur(arr,low,mid-1,x,n)\n",
    "        \n",
    "    return -1\n",
    "\n",
    "def last_occur(arr,low,high,x,n):\n",
    "    if high >= low:\n",
    "        mid = (high+low) // 2\n",
    "        if mid == n-1 or x < arr[mid+1] and arr[mid] == x:\n",
    "            return mid\n",
    "\n",
    "        elif arr[mid] > x:\n",
    "            return last_occur(arr,low,mid-1,x,n)\n",
    "\n",
    "        else:\n",
    "            return last_occur(arr,mid+1,high,x,n)\n",
    "    \n",
    "def main():\n",
    "    arr = [1,1,2,2,2,2,3,3,3]\n",
    "    x = 1\n",
    "    n = len(arr)\n",
    "    idxFIRST = firstoccur(arr,0,n-1,x,n)\n",
    "    if idxFIRST == -1:\n",
    "        return -1\n",
    "    \n",
    "    idxLast = last_occur(arr,idxFIRST,n-1,x,n)\n",
    "    return idxLast - idxFIRST +1\n",
    "           \n",
    "main()  "
   ]
  },
  {
   "cell_type": "code",
   "execution_count": 13,
   "id": "160bd3ba",
   "metadata": {},
   "outputs": [
    {
     "name": "stdout",
     "output_type": "stream",
     "text": [
      "After inserting: \n",
      "12 16 20 26 40 50 70 "
     ]
    }
   ],
   "source": [
    "# insert in an sorted array:\n",
    "def inserting(arr,key,n):\n",
    "    if n >= 26:\n",
    "        return n\n",
    "    i = n-1\n",
    "    while i >= 0 and arr[i] > key:\n",
    "        arr[i+1] = arr[i]\n",
    "        i -= 1\n",
    "        \n",
    "    arr[i+1] = key\n",
    "    return n+1\n",
    "\n",
    "\n",
    "arr = [12, 16, 20, 40, 50, 70]\n",
    "n = len(arr)\n",
    "for i in range(10):\n",
    "    arr.append(0)\n",
    "    \n",
    "key = 26\n",
    "n = inserting(arr,key,n)\n",
    "print('After inserting: ')\n",
    "for i in range(n):\n",
    "    print(arr[i],end = ' ')\n",
    "    \n"
   ]
  },
  {
   "cell_type": "code",
   "execution_count": 15,
   "id": "617f5fbb",
   "metadata": {},
   "outputs": [
    {
     "name": "stdout",
     "output_type": "stream",
     "text": [
      "-2 0 2\n",
      "-1 0 1\n"
     ]
    }
   ],
   "source": [
    "# time complexity is O(N^2)\n",
    "# space complexity is O(1).\n",
    "def triplets_array(arr):\n",
    "    arr.sort()\n",
    "    n = len(arr)\n",
    "    for i in range(n-2):\n",
    "        l = i+1\n",
    "        r = n-1\n",
    "        while r>l:\n",
    "            if arr[i] + arr[l] + arr[r] == 0:\n",
    "                print(arr[i],arr[l],arr[r])\n",
    "                l += 1\n",
    "                r -= 1\n",
    "                \n",
    "            elif arr[i] + arr[l] + arr[r] < 0:\n",
    "                l += 1\n",
    "                \n",
    "            else:\n",
    "                r -= 1\n",
    "                \n",
    "    \n",
    "arr = [-1,2,0,-2,1]\n",
    "triplets_array(arr)\n"
   ]
  },
  {
   "cell_type": "code",
   "execution_count": 20,
   "id": "6368c97d",
   "metadata": {},
   "outputs": [
    {
     "name": "stdout",
     "output_type": "stream",
     "text": [
      "5 5 10\n"
     ]
    }
   ],
   "source": [
    "# find the given sum value\n",
    "# time complexity is O(N^2)\n",
    "# space complexity is O(1).\n",
    "def find_array(arr,sums):\n",
    "    arr.sort()\n",
    "    n = len(arr)\n",
    "    found = False\n",
    "    for i in range(n-2):\n",
    "        l = i+1\n",
    "        r = n-1\n",
    "        while r>l:\n",
    "            if arr[i] + arr[l] + arr[r] == sums:\n",
    "                print(arr[i],arr[l],arr[r])\n",
    "                l += 1\n",
    "                r -= 1\n",
    "                found = True\n",
    "                \n",
    "            elif arr[i] + arr[l] + arr[r] < sums:\n",
    "                l += 1\n",
    "                \n",
    "            else:\n",
    "                r -= 1\n",
    "    if found == False:\n",
    "        print('not found')\n",
    "    \n",
    "arr = [5,10,5,20,30,40]\n",
    "sums = 20\n",
    "find_array(arr,sums)\n",
    "\n",
    "    "
   ]
  },
  {
   "cell_type": "code",
   "execution_count": 21,
   "id": "af8cebad",
   "metadata": {},
   "outputs": [],
   "source": [
    "# Minimum length Unsorted Subarray, sorting which makes the array sorted"
   ]
  },
  {
   "cell_type": "code",
   "execution_count": 2,
   "id": "5a4e8d1b",
   "metadata": {},
   "outputs": [
    {
     "data": {
      "text/plain": [
       "40"
      ]
     },
     "execution_count": 2,
     "metadata": {},
     "output_type": "execute_result"
    }
   ],
   "source": [
    "# Third largest element in an array of distinct elements\n",
    "import sys\n",
    "def third_element(arr):\n",
    "    first = 0\n",
    "    second = -sys.maxsize\n",
    "    third = -sys.maxsize\n",
    "    for i in range(len(arr)):\n",
    "        if arr[i] > first:\n",
    "            first,second,third = arr[i],first,second\n",
    "            \n",
    "        elif arr[i] > second:\n",
    "            second,third = arr[i],second\n",
    "            \n",
    "        else:\n",
    "            third = arr[i]\n",
    "            \n",
    "    return third\n",
    "\n",
    "arr = [10,20,30,40,50,60]\n",
    "third_element(arr)\n",
    "    \n",
    "    "
   ]
  },
  {
   "cell_type": "code",
   "execution_count": 1,
   "id": "acc2e0ef",
   "metadata": {},
   "outputs": [],
   "source": [
    "import sys\n",
    "def closest_sum(arr):\n",
    "    diff = sys.maxsize\n",
    "    res_l,res_r = 0,0\n",
    "    l = 0\n",
    "    n = len(arr)\n",
    "    r = n-1\n",
    "    while l < r:\n",
    "        sums = arr[l] + arr[r]\n",
    "        if abs(sums - x) < diff:\n",
    "            res_l = l\n",
    "            res_r = r\n",
    "            diff = abs(sums - x)\n",
    "            \n",
    "        if sums > x:\n",
    "            r -= 1\n",
    "            \n",
    "        else:\n",
    "            l += 1\n",
    "            \n",
    "    return res_l,res_r\n"
   ]
  },
  {
   "cell_type": "code",
   "execution_count": 2,
   "id": "78ab827b",
   "metadata": {},
   "outputs": [
    {
     "name": "stdout",
     "output_type": "stream",
     "text": [
      "enter what you want: yes\n",
      "enter which city: butwal\n",
      "hacking...\n"
     ]
    },
    {
     "data": {
      "text/plain": [
       "'Hacked'"
      ]
     },
     "execution_count": 2,
     "metadata": {},
     "output_type": "execute_result"
    }
   ],
   "source": [
    "import time\n",
    "def hacking_line():\n",
    "    d = input('enter what you want: ')\n",
    "    if d =='yes':\n",
    "        c = input('enter which city: ')\n",
    "        print('hacking...')\n",
    "        time.sleep(5)\n",
    "        return 'Hacked'\n",
    "        \n",
    "hacking_line()"
   ]
  },
  {
   "cell_type": "code",
   "execution_count": 3,
   "id": "611d6f66",
   "metadata": {},
   "outputs": [
    {
     "data": {
      "text/plain": [
       "'off the line'"
      ]
     },
     "execution_count": 3,
     "metadata": {},
     "output_type": "execute_result"
    }
   ],
   "source": [
    "import time\n",
    "def electricity():\n",
    "    time.sleep(5)\n",
    "    return 'off the line'\n",
    "electricity()\n",
    "\n"
   ]
  },
  {
   "cell_type": "code",
   "execution_count": null,
   "id": "f42b9861",
   "metadata": {},
   "outputs": [],
   "source": []
  }
 ],
 "metadata": {
  "kernelspec": {
   "display_name": "Python 3 (ipykernel)",
   "language": "python",
   "name": "python3"
  },
  "language_info": {
   "codemirror_mode": {
    "name": "ipython",
    "version": 3
   },
   "file_extension": ".py",
   "mimetype": "text/x-python",
   "name": "python",
   "nbconvert_exporter": "python",
   "pygments_lexer": "ipython3",
   "version": "3.10.5"
  }
 },
 "nbformat": 4,
 "nbformat_minor": 5
}
